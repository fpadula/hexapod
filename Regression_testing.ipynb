{
 "cells": [
  {
   "cell_type": "code",
   "execution_count": 10,
   "metadata": {},
   "outputs": [],
   "source": [
    "import pandas as pd\n",
    "from sklearn.neural_network import MLPRegressor\n",
    "from sklearn.model_selection import train_test_split\n",
    "from sklearn.model_selection import cross_val_score\n",
    "from sklearn.metrics import r2_score"
   ]
  },
  {
   "cell_type": "code",
   "execution_count": 11,
   "metadata": {},
   "outputs": [
    {
     "data": {
      "text/html": [
       "<div>\n",
       "<style scoped>\n",
       "    .dataframe tbody tr th:only-of-type {\n",
       "        vertical-align: middle;\n",
       "    }\n",
       "\n",
       "    .dataframe tbody tr th {\n",
       "        vertical-align: top;\n",
       "    }\n",
       "\n",
       "    .dataframe thead th {\n",
       "        text-align: right;\n",
       "    }\n",
       "</style>\n",
       "<table border=\"1\" class=\"dataframe\">\n",
       "  <thead>\n",
       "    <tr style=\"text-align: right;\">\n",
       "      <th></th>\n",
       "      <th>0</th>\n",
       "      <th>1</th>\n",
       "      <th>2</th>\n",
       "      <th>3</th>\n",
       "      <th>4</th>\n",
       "    </tr>\n",
       "  </thead>\n",
       "  <tbody>\n",
       "    <tr>\n",
       "      <th>0</th>\n",
       "      <td>-90.0</td>\n",
       "      <td>-90.0</td>\n",
       "      <td>-4.592425e-18</td>\n",
       "      <td>-0.750000</td>\n",
       "      <td>0.825000</td>\n",
       "    </tr>\n",
       "    <tr>\n",
       "      <th>1</th>\n",
       "      <td>-90.0</td>\n",
       "      <td>-89.0</td>\n",
       "      <td>-3.703094e-18</td>\n",
       "      <td>-0.764398</td>\n",
       "      <td>0.824874</td>\n",
       "    </tr>\n",
       "    <tr>\n",
       "      <th>2</th>\n",
       "      <td>-90.0</td>\n",
       "      <td>-88.0</td>\n",
       "      <td>-2.798645e-18</td>\n",
       "      <td>-0.778792</td>\n",
       "      <td>0.824497</td>\n",
       "    </tr>\n",
       "    <tr>\n",
       "      <th>3</th>\n",
       "      <td>-90.0</td>\n",
       "      <td>-87.0</td>\n",
       "      <td>-1.879355e-18</td>\n",
       "      <td>-0.793177</td>\n",
       "      <td>0.823869</td>\n",
       "    </tr>\n",
       "    <tr>\n",
       "      <th>4</th>\n",
       "      <td>-90.0</td>\n",
       "      <td>-86.0</td>\n",
       "      <td>-9.455039e-19</td>\n",
       "      <td>-0.807549</td>\n",
       "      <td>0.822990</td>\n",
       "    </tr>\n",
       "    <tr>\n",
       "      <th>...</th>\n",
       "      <td>...</td>\n",
       "      <td>...</td>\n",
       "      <td>...</td>\n",
       "      <td>...</td>\n",
       "      <td>...</td>\n",
       "    </tr>\n",
       "    <tr>\n",
       "      <th>32395</th>\n",
       "      <td>89.0</td>\n",
       "      <td>85.0</td>\n",
       "      <td>1.434419e-02</td>\n",
       "      <td>0.821778</td>\n",
       "      <td>-0.821861</td>\n",
       "    </tr>\n",
       "    <tr>\n",
       "      <th>32396</th>\n",
       "      <td>89.0</td>\n",
       "      <td>86.0</td>\n",
       "      <td>1.409367e-02</td>\n",
       "      <td>0.807426</td>\n",
       "      <td>-0.822990</td>\n",
       "    </tr>\n",
       "    <tr>\n",
       "      <th>32397</th>\n",
       "      <td>89.0</td>\n",
       "      <td>87.0</td>\n",
       "      <td>1.384285e-02</td>\n",
       "      <td>0.793056</td>\n",
       "      <td>-0.823869</td>\n",
       "    </tr>\n",
       "    <tr>\n",
       "      <th>32398</th>\n",
       "      <td>89.0</td>\n",
       "      <td>88.0</td>\n",
       "      <td>1.359180e-02</td>\n",
       "      <td>0.778673</td>\n",
       "      <td>-0.824497</td>\n",
       "    </tr>\n",
       "    <tr>\n",
       "      <th>32399</th>\n",
       "      <td>89.0</td>\n",
       "      <td>89.0</td>\n",
       "      <td>1.334059e-02</td>\n",
       "      <td>0.764282</td>\n",
       "      <td>-0.824874</td>\n",
       "    </tr>\n",
       "  </tbody>\n",
       "</table>\n",
       "<p>32400 rows × 5 columns</p>\n",
       "</div>"
      ],
      "text/plain": [
       "          0     1             2         3         4\n",
       "0     -90.0 -90.0 -4.592425e-18 -0.750000  0.825000\n",
       "1     -90.0 -89.0 -3.703094e-18 -0.764398  0.824874\n",
       "2     -90.0 -88.0 -2.798645e-18 -0.778792  0.824497\n",
       "3     -90.0 -87.0 -1.879355e-18 -0.793177  0.823869\n",
       "4     -90.0 -86.0 -9.455039e-19 -0.807549  0.822990\n",
       "...     ...   ...           ...       ...       ...\n",
       "32395  89.0  85.0  1.434419e-02  0.821778 -0.821861\n",
       "32396  89.0  86.0  1.409367e-02  0.807426 -0.822990\n",
       "32397  89.0  87.0  1.384285e-02  0.793056 -0.823869\n",
       "32398  89.0  88.0  1.359180e-02  0.778673 -0.824497\n",
       "32399  89.0  89.0  1.334059e-02  0.764282 -0.824874\n",
       "\n",
       "[32400 rows x 5 columns]"
      ]
     },
     "execution_count": 11,
     "metadata": {},
     "output_type": "execute_result"
    }
   ],
   "source": [
    "data = pd.read_csv(\"data.csv\", header = None)\n",
    "\n",
    "data"
   ]
  },
  {
   "cell_type": "code",
   "execution_count": 9,
   "metadata": {},
   "outputs": [
    {
     "name": "stdout",
     "output_type": "stream",
     "text": [
      "Starts at x: 0.00 with length 3.15\n",
      "Starts at y: 0.00 with length 1.65\n",
      "Starts at z: 0.79 with length 1.57\n"
     ]
    }
   ],
   "source": [
    "#getting end effector cube\n",
    "dim1 = data.iloc[:, 2].max() - data.iloc[:, 2].min()\n",
    "dim2 = data.iloc[:, 3].max() - data.iloc[:, 3].min()\n",
    "dim3 = data.iloc[:, 4].max() - data.iloc[:, 4].min()\n",
    "\n",
    "print(\"Starts at x: %.2f with length %.2f\" % (-data.iloc[:, 3].min() - dim2/2, dim2))\n",
    "print(\"Starts at y: %.2f with length %.2f\" % (data.iloc[:, 4].min()+dim3/2, dim3))\n",
    "print(\"Starts at z: %.2f with length %.2f\" % (data.iloc[:, 2].min()+dim1/2, dim1))"
   ]
  },
  {
   "cell_type": "code",
   "execution_count": 38,
   "metadata": {},
   "outputs": [
    {
     "data": {
      "text/plain": [
       "0.4316228957221746"
      ]
     },
     "execution_count": 38,
     "metadata": {},
     "output_type": "execute_result"
    }
   ],
   "source": [
    "data.iloc[:, 2].std()"
   ]
  },
  {
   "cell_type": "code",
   "execution_count": 12,
   "metadata": {},
   "outputs": [],
   "source": [
    "from sklearn.preprocessing import MinMaxScaler\n",
    "y = data.iloc[:,0:2]\n",
    "X = data.iloc[:,2:]\n",
    "\n",
    "scalerX = MinMaxScaler()\n",
    "scalery = MinMaxScaler()\n",
    "# X = scalerX.fit_transform(X)\n",
    "# y = scalery.fit_transform(y)\n",
    "X_train, X_test, y_train, y_test = train_test_split(X, y, test_size=0.25, random_state=42)"
   ]
  },
  {
   "cell_type": "code",
   "execution_count": 27,
   "metadata": {},
   "outputs": [
    {
     "name": "stderr",
     "output_type": "stream",
     "text": [
      "/home/padula/Projects/hexapod/venv/lib/python3.6/site-packages/sklearn/base.py:434: FutureWarning: The default value of multioutput (not exposed in score method) will change from 'variance_weighted' to 'uniform_average' in 0.23 to keep consistent with 'metrics.r2_score'. To specify the default value manually and avoid the warning, please either call 'metrics.r2_score' directly or make a custom scorer with 'metrics.make_scorer' (the built-in scorer 'r2' uses multioutput='uniform_average').\n",
      "  \"multioutput='uniform_average').\", FutureWarning)\n",
      "/home/padula/Projects/hexapod/venv/lib/python3.6/site-packages/sklearn/base.py:434: FutureWarning: The default value of multioutput (not exposed in score method) will change from 'variance_weighted' to 'uniform_average' in 0.23 to keep consistent with 'metrics.r2_score'. To specify the default value manually and avoid the warning, please either call 'metrics.r2_score' directly or make a custom scorer with 'metrics.make_scorer' (the built-in scorer 'r2' uses multioutput='uniform_average').\n",
      "  \"multioutput='uniform_average').\", FutureWarning)\n",
      "/home/padula/Projects/hexapod/venv/lib/python3.6/site-packages/sklearn/base.py:434: FutureWarning: The default value of multioutput (not exposed in score method) will change from 'variance_weighted' to 'uniform_average' in 0.23 to keep consistent with 'metrics.r2_score'. To specify the default value manually and avoid the warning, please either call 'metrics.r2_score' directly or make a custom scorer with 'metrics.make_scorer' (the built-in scorer 'r2' uses multioutput='uniform_average').\n",
      "  \"multioutput='uniform_average').\", FutureWarning)\n",
      "/home/padula/Projects/hexapod/venv/lib/python3.6/site-packages/sklearn/base.py:434: FutureWarning: The default value of multioutput (not exposed in score method) will change from 'variance_weighted' to 'uniform_average' in 0.23 to keep consistent with 'metrics.r2_score'. To specify the default value manually and avoid the warning, please either call 'metrics.r2_score' directly or make a custom scorer with 'metrics.make_scorer' (the built-in scorer 'r2' uses multioutput='uniform_average').\n",
      "  \"multioutput='uniform_average').\", FutureWarning)\n",
      "/home/padula/Projects/hexapod/venv/lib/python3.6/site-packages/sklearn/base.py:434: FutureWarning: The default value of multioutput (not exposed in score method) will change from 'variance_weighted' to 'uniform_average' in 0.23 to keep consistent with 'metrics.r2_score'. To specify the default value manually and avoid the warning, please either call 'metrics.r2_score' directly or make a custom scorer with 'metrics.make_scorer' (the built-in scorer 'r2' uses multioutput='uniform_average').\n",
      "  \"multioutput='uniform_average').\", FutureWarning)\n",
      "/home/padula/Projects/hexapod/venv/lib/python3.6/site-packages/sklearn/base.py:434: FutureWarning: The default value of multioutput (not exposed in score method) will change from 'variance_weighted' to 'uniform_average' in 0.23 to keep consistent with 'metrics.r2_score'. To specify the default value manually and avoid the warning, please either call 'metrics.r2_score' directly or make a custom scorer with 'metrics.make_scorer' (the built-in scorer 'r2' uses multioutput='uniform_average').\n",
      "  \"multioutput='uniform_average').\", FutureWarning)\n",
      "/home/padula/Projects/hexapod/venv/lib/python3.6/site-packages/sklearn/base.py:434: FutureWarning: The default value of multioutput (not exposed in score method) will change from 'variance_weighted' to 'uniform_average' in 0.23 to keep consistent with 'metrics.r2_score'. To specify the default value manually and avoid the warning, please either call 'metrics.r2_score' directly or make a custom scorer with 'metrics.make_scorer' (the built-in scorer 'r2' uses multioutput='uniform_average').\n",
      "  \"multioutput='uniform_average').\", FutureWarning)\n",
      "/home/padula/Projects/hexapod/venv/lib/python3.6/site-packages/sklearn/base.py:434: FutureWarning: The default value of multioutput (not exposed in score method) will change from 'variance_weighted' to 'uniform_average' in 0.23 to keep consistent with 'metrics.r2_score'. To specify the default value manually and avoid the warning, please either call 'metrics.r2_score' directly or make a custom scorer with 'metrics.make_scorer' (the built-in scorer 'r2' uses multioutput='uniform_average').\n",
      "  \"multioutput='uniform_average').\", FutureWarning)\n",
      "/home/padula/Projects/hexapod/venv/lib/python3.6/site-packages/sklearn/base.py:434: FutureWarning: The default value of multioutput (not exposed in score method) will change from 'variance_weighted' to 'uniform_average' in 0.23 to keep consistent with 'metrics.r2_score'. To specify the default value manually and avoid the warning, please either call 'metrics.r2_score' directly or make a custom scorer with 'metrics.make_scorer' (the built-in scorer 'r2' uses multioutput='uniform_average').\n",
      "  \"multioutput='uniform_average').\", FutureWarning)\n",
      "/home/padula/Projects/hexapod/venv/lib/python3.6/site-packages/sklearn/base.py:434: FutureWarning: The default value of multioutput (not exposed in score method) will change from 'variance_weighted' to 'uniform_average' in 0.23 to keep consistent with 'metrics.r2_score'. To specify the default value manually and avoid the warning, please either call 'metrics.r2_score' directly or make a custom scorer with 'metrics.make_scorer' (the built-in scorer 'r2' uses multioutput='uniform_average').\n",
      "  \"multioutput='uniform_average').\", FutureWarning)\n"
     ]
    },
    {
     "data": {
      "text/plain": [
       "0.9956300142374037"
      ]
     },
     "execution_count": 27,
     "metadata": {},
     "output_type": "execute_result"
    }
   ],
   "source": [
    "from sklearn.linear_model import LinearRegression\n",
    "from sklearn.preprocessing import PolynomialFeatures\n",
    "from sklearn.svm import SVR\n",
    "\n",
    "poly = PolynomialFeatures(3, include_bias=False)\n",
    "Xt = poly.fit_transform(X)\n",
    "reg = LinearRegression()\n",
    "# reg.fit(Xt, y)\n",
    "# reg.score(Xt, y)\n",
    "# reg.coef_\n",
    "\n",
    "# X.values[0]\n",
    "# reg = SVR(C=1.0, epsilon=0.2)\n",
    "# reg.fit(X.values, y.values)\n",
    "# reg = MLPRegressor(hidden_layer_sizes=(150,50), tol=1e-3, max_iter=50, random_state=0, activation=\"tanh\")\n",
    "# reg.fit(X_train, y_train)\n",
    "# reg.score(X_test, y_test)\n",
    "scores = cross_val_score(reg, Xt, y, cv=10)\n",
    "scores.mean()"
   ]
  },
  {
   "cell_type": "code",
   "execution_count": 28,
   "metadata": {},
   "outputs": [
    {
     "data": {
      "text/plain": [
       "LinearRegression(copy_X=True, fit_intercept=True, n_jobs=None, normalize=False)"
      ]
     },
     "execution_count": 28,
     "metadata": {},
     "output_type": "execute_result"
    }
   ],
   "source": [
    "reg.fit(Xt, y)\n"
   ]
  },
  {
   "cell_type": "code",
   "execution_count": 23,
   "metadata": {},
   "outputs": [
    {
     "data": {
      "text/plain": [
       "array([[2.92133494e+10, 1.27224913e+08]])"
      ]
     },
     "execution_count": 23,
     "metadata": {},
     "output_type": "execute_result"
    }
   ],
   "source": [
    "pred = reg.predict(poly.transform([[0.989, 0.43, 0]]))\n",
    "# scalery.inverse_transform(pred)\n",
    "pred"
   ]
  },
  {
   "cell_type": "code",
   "execution_count": 29,
   "metadata": {},
   "outputs": [
    {
     "data": {
      "text/plain": [
       "['x0',\n",
       " 'x1',\n",
       " 'x2',\n",
       " 'x0^2',\n",
       " 'x0 x1',\n",
       " 'x0 x2',\n",
       " 'x1^2',\n",
       " 'x1 x2',\n",
       " 'x2^2',\n",
       " 'x0^3',\n",
       " 'x0^2 x1',\n",
       " 'x0^2 x2',\n",
       " 'x0 x1^2',\n",
       " 'x0 x1 x2',\n",
       " 'x0 x2^2',\n",
       " 'x1^3',\n",
       " 'x1^2 x2',\n",
       " 'x1 x2^2',\n",
       " 'x2^3']"
      ]
     },
     "execution_count": 29,
     "metadata": {},
     "output_type": "execute_result"
    }
   ],
   "source": [
    "poly.get_feature_names()"
   ]
  },
  {
   "cell_type": "code",
   "execution_count": 30,
   "metadata": {},
   "outputs": [
    {
     "data": {
      "text/plain": [
       "array([[ 1.77454600e+00,  2.03342831e+02, -9.20288249e-14,\n",
       "        -2.78747508e-01, -3.19388681e+01,  5.74908434e-04,\n",
       "         2.78747508e-01,  6.58779814e-02, -1.30165553e-13,\n",
       "        -4.02402633e-01, -4.61124916e+01, -8.76834329e-04,\n",
       "        -6.97535738e-01, -1.00467610e-01, -8.68855614e-01,\n",
       "        -5.73831702e+01,  8.76834329e-04, -9.95609920e+01,\n",
       "         2.89768209e-14],\n",
       "       [ 2.92806136e-01, -2.55528044e-03, -1.90835390e+02,\n",
       "         1.97247196e-01, -2.45113322e-04, -1.03310418e-03,\n",
       "         1.83204663e-01,  9.01576355e-06,  4.50506722e-01,\n",
       "        -1.24295722e-01,  1.19103136e-03,  4.85999089e+01,\n",
       "        -1.18205637e-01, -1.09626948e-05, -2.95725973e-01,\n",
       "         1.03155687e-03,  4.85992808e+01,  2.58076147e-03,\n",
       "         8.08643922e+01]])"
      ]
     },
     "execution_count": 30,
     "metadata": {},
     "output_type": "execute_result"
    }
   ],
   "source": [
    "reg.coef_"
   ]
  },
  {
   "cell_type": "code",
   "execution_count": 31,
   "metadata": {},
   "outputs": [
    {
     "data": {
      "text/plain": [
       "array([-0.5      , -0.4650511])"
      ]
     },
     "execution_count": 31,
     "metadata": {},
     "output_type": "execute_result"
    }
   ],
   "source": [
    "reg.intercept_"
   ]
  }
 ],
 "metadata": {
  "kernelspec": {
   "display_name": "env_hexapod",
   "language": "python",
   "name": "env_hexapod"
  },
  "language_info": {
   "codemirror_mode": {
    "name": "ipython",
    "version": 3
   },
   "file_extension": ".py",
   "mimetype": "text/x-python",
   "name": "python",
   "nbconvert_exporter": "python",
   "pygments_lexer": "ipython3",
   "version": "3.6.9"
  }
 },
 "nbformat": 4,
 "nbformat_minor": 2
}
